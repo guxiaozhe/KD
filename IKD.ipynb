{
 "cells": [
  {
   "cell_type": "code",
   "execution_count": 1,
   "metadata": {
    "ExecuteTime": {
     "end_time": "2020-06-22T07:13:48.236062Z",
     "start_time": "2020-06-22T07:13:46.598762Z"
    }
   },
   "outputs": [],
   "source": [
    "import math\n",
    "import os\n",
    "import time\n",
    "import shutil\n",
    "\n",
    "import torch\n",
    "import torch.nn as nn\n",
    "import torch.optim as optim\n",
    "import torch.nn.functional as F\n",
    "import torch.backends.cudnn as cudnn\n",
    "\n",
    "\n",
    "import torchvision\n",
    "import torchvision.transforms as transforms\n",
    "\n",
    "from pathlib import Path\n",
    "\n",
    "import numpy as np\n",
    "import matplotlib.pyplot as plt\n"
   ]
  },
  {
   "cell_type": "code",
   "execution_count": null,
   "metadata": {},
   "outputs": [],
   "source": []
  },
  {
   "cell_type": "markdown",
   "metadata": {},
   "source": [
    "# Data Loader"
   ]
  },
  {
   "cell_type": "code",
   "execution_count": 2,
   "metadata": {
    "ExecuteTime": {
     "end_time": "2020-06-22T07:13:50.224144Z",
     "start_time": "2020-06-22T07:13:50.221040Z"
    }
   },
   "outputs": [],
   "source": [
    "from torch.utils.data import Dataset\n",
    "NUM_WORKERS = 4"
   ]
  },
  {
   "cell_type": "code",
   "execution_count": 272,
   "metadata": {
    "ExecuteTime": {
     "end_time": "2020-06-28T07:00:16.519131Z",
     "start_time": "2020-06-28T07:00:16.498836Z"
    }
   },
   "outputs": [],
   "source": [
    "def get_cifar(num_classes=10, dataset_dir=\"./data\", batch_size=1,\n",
    "              use_cifar_10_1=False):\n",
    "\n",
    "    if num_classes == 10:\n",
    "        print(\"Loading CIFAR10...\")\n",
    "        dataset = torchvision.datasets.CIFAR10\n",
    "        normalize = transforms.Normalize(\n",
    "            (0.4914, 0.4822, 0.4465), (0.2023, 0.1994, 0.2010))\n",
    "    else:\n",
    "        print(\"Loading CIFAR100...\")\n",
    "        dataset = torchvision.datasets.CIFAR100\n",
    "        normalize = transforms.Normalize(\n",
    "            mean=[0.507, 0.487, 0.441], std=[0.267, 0.256, 0.276])\n",
    "\n",
    "    train_transform = transforms.Compose([\n",
    "#         transforms.RandomCrop(32, padding=4),\n",
    "#         transforms.RandomHorizontalFlip(),\n",
    "        transforms.ToTensor(),\n",
    "        normalize,\n",
    "    ])\n",
    "\n",
    "    trainset = dataset(root=dataset_dir, train=True,\n",
    "                       download=True, transform=train_transform)\n",
    "\n",
    "    test_transform = transforms.Compose([\n",
    "        transforms.ToTensor(),\n",
    "        normalize,\n",
    "    ])\n",
    "\n",
    "    # Use the normal cifar 10 testset or a new one to test true generalization\n",
    "    if use_cifar_10_1 and num_classes == 10:\n",
    "        imagedata, labels = load_cifar_10_1()\n",
    "        testset = TensorImgSet((imagedata, labels), transform=test_transform)\n",
    "    else:\n",
    "        testset = dataset(root=dataset_dir, train=False,\n",
    "                          download=True,\n",
    "                          transform=test_transform)\n",
    "\n",
    "    train_loader = torch.utils.data.DataLoader(trainset,\n",
    "                                               batch_size=batch_size,\n",
    "                                               num_workers=NUM_WORKERS,\n",
    "                                               pin_memory=True, shuffle=False)\n",
    "    test_loader = torch.utils.data.DataLoader(testset,\n",
    "                                              batch_size=batch_size,\n",
    "                                              num_workers=NUM_WORKERS,\n",
    "                                              pin_memory=True, shuffle=False)\n",
    "    return train_loader, test_loader"
   ]
  },
  {
   "cell_type": "code",
   "execution_count": 318,
   "metadata": {
    "ExecuteTime": {
     "end_time": "2020-06-28T07:28:14.690085Z",
     "start_time": "2020-06-28T07:28:13.031497Z"
    }
   },
   "outputs": [
    {
     "name": "stdout",
     "output_type": "stream",
     "text": [
      "Loading CIFAR10...\n",
      "Files already downloaded and verified\n",
      "Files already downloaded and verified\n"
     ]
    }
   ],
   "source": [
    "train_loader, test_loader=get_cifar(10)"
   ]
  },
  {
   "cell_type": "code",
   "execution_count": 160,
   "metadata": {
    "ExecuteTime": {
     "end_time": "2020-06-28T03:44:47.463820Z",
     "start_time": "2020-06-28T03:44:47.404980Z"
    }
   },
   "outputs": [
    {
     "name": "stdout",
     "output_type": "stream",
     "text": [
      "Using cpu to train.\n"
     ]
    }
   ],
   "source": [
    "from models.model_factory import create_model\n",
    "import util\n",
    "from evaluate import * \n",
    "    \n",
    "device = util.setup_torch()\n",
    "\n",
    "    \n"
   ]
  },
  {
   "cell_type": "markdown",
   "metadata": {},
   "source": [
    "# Plot"
   ]
  },
  {
   "cell_type": "code",
   "execution_count": 6,
   "metadata": {
    "ExecuteTime": {
     "end_time": "2020-06-22T07:14:00.388486Z",
     "start_time": "2020-06-22T07:14:00.379391Z"
    }
   },
   "outputs": [],
   "source": [
    "def plot_timage(img):\n",
    "    '''\n",
    "    img: 输入Tensor[3xWxH],经过normalize图像\n",
    "    '''\n",
    "    inv_normalize = transforms.Normalize(\n",
    "    mean=[-0.4914/0.2023, -0.4822/0.1994, -0.4465/0.2010],\n",
    "    std=[1/0.2023, 1/0.1994, 1/0.2010])\n",
    "    if len(img.shape)==4:\n",
    "        img=img[0]\n",
    "    img = inv_normalize(img)\n",
    "    img = np.transpose(img, (1,2,0))\n",
    "    plt.imshow(img)\n",
    "    plt.show()\n",
    "\n",
    "def plot_mask(mask):\n",
    "    '''纯 WxH mask\n",
    "    '''\n",
    "    if len(mask.shape)==4:\n",
    "        mask=mask[0,0]\n",
    "    elif len(mask.shape)==3:\n",
    "        mask=mask[0]\n",
    "    plt.imshow(mask,cmap='YlGnBu')\n",
    "    plt.show()"
   ]
  },
  {
   "cell_type": "code",
   "execution_count": 31,
   "metadata": {
    "ExecuteTime": {
     "end_time": "2020-06-22T08:14:59.132033Z",
     "start_time": "2020-06-22T08:14:58.882817Z"
    }
   },
   "outputs": [
    {
     "name": "stdout",
     "output_type": "stream",
     "text": [
      "torch.Size([128, 3, 32, 32]) torch.Size([128])\n"
     ]
    }
   ],
   "source": [
    "x,y=iter(train_loader).next()\n",
    "print(x.shape,y.shape)"
   ]
  },
  {
   "cell_type": "code",
   "execution_count": 8,
   "metadata": {
    "ExecuteTime": {
     "end_time": "2020-05-25T14:36:33.530497Z",
     "start_time": "2020-05-25T14:36:33.527987Z"
    }
   },
   "outputs": [],
   "source": [
    "# plot_timage(x[0])"
   ]
  },
  {
   "cell_type": "code",
   "execution_count": 8,
   "metadata": {
    "ExecuteTime": {
     "end_time": "2020-06-22T07:14:03.743652Z",
     "start_time": "2020-06-22T07:14:03.739911Z"
    }
   },
   "outputs": [],
   "source": [
    "\n",
    "normalize = transforms.Normalize(\n",
    "            mean=[0.507, 0.487, 0.441], std=[0.267, 0.256, 0.276])\n",
    "\n",
    "train_transform = transforms.Compose([\n",
    "        transforms.ToTensor(),\n",
    "        normalize,\n",
    "    ])\n"
   ]
  },
  {
   "cell_type": "code",
   "execution_count": 353,
   "metadata": {
    "ExecuteTime": {
     "end_time": "2020-05-31T13:22:54.860394Z",
     "start_time": "2020-05-31T13:22:54.854870Z"
    }
   },
   "outputs": [
    {
     "data": {
      "text/plain": [
       "tensor([[[[0.0376, 0.4057, 0.4948],\n",
       "          [0.0465, 0.7875, 0.5543],\n",
       "          [0.4054, 0.6110, 0.5863]],\n",
       "\n",
       "         [[0.1827, 0.3772, 0.5144],\n",
       "          [0.0430, 0.1968, 0.7567],\n",
       "          [0.8356, 0.8435, 0.8163]]],\n",
       "\n",
       "\n",
       "        [[[0.3831, 0.9925, 0.2196],\n",
       "          [0.8047, 0.1723, 0.5383],\n",
       "          [0.6773, 0.1646, 0.9079]],\n",
       "\n",
       "         [[0.0174, 0.2027, 0.8018],\n",
       "          [0.8462, 0.6066, 0.3698],\n",
       "          [0.4590, 0.7226, 0.2852]]]])"
      ]
     },
     "execution_count": 353,
     "metadata": {},
     "output_type": "execute_result"
    }
   ],
   "source": [
    "x=torch.rand(2,2,3,3)\n",
    "x"
   ]
  },
  {
   "cell_type": "code",
   "execution_count": 355,
   "metadata": {
    "ExecuteTime": {
     "end_time": "2020-05-31T13:23:24.685865Z",
     "start_time": "2020-05-31T13:23:24.681097Z"
    }
   },
   "outputs": [
    {
     "data": {
      "text/plain": [
       "tensor([[[0.1827, 0.3772, 0.5144],\n",
       "         [0.0430, 0.1968, 0.7567],\n",
       "         [0.8356, 0.8435, 0.8163]],\n",
       "\n",
       "        [[0.0174, 0.2027, 0.8018],\n",
       "         [0.8462, 0.6066, 0.3698],\n",
       "         [0.4590, 0.7226, 0.2852]]])"
      ]
     },
     "execution_count": 355,
     "metadata": {},
     "output_type": "execute_result"
    }
   ],
   "source": [
    "x[:,1]"
   ]
  },
  {
   "cell_type": "markdown",
   "metadata": {},
   "source": [
    "# Teacher Model"
   ]
  },
  {
   "cell_type": "code",
   "execution_count": 317,
   "metadata": {
    "ExecuteTime": {
     "end_time": "2020-06-28T07:28:07.555479Z",
     "start_time": "2020-06-28T07:28:07.512149Z"
    }
   },
   "outputs": [
    {
     "name": "stdout",
     "output_type": "stream",
     "text": [
      "Building model resnet20... total parameters: 283754, layers 67\n",
      "Using 0 GPU(s).\n",
      "---------- Loading Teacher -------\n",
      "Decreasing learning rates at epoch 0 0 \n"
     ]
    },
    {
     "data": {
      "text/plain": [
       "DataParallel(\n",
       "  (module): ResNetSmall(\n",
       "    (conv1): Conv2d(3, 64, kernel_size=(3, 3), stride=(1, 1), padding=(1, 1), bias=False)\n",
       "    (bn1): BatchNorm2d(64, eps=1e-05, momentum=0.1, affine=True, track_running_stats=True)\n",
       "    (layer1): Sequential(\n",
       "      (0): BasicBlock(\n",
       "        (conv1): Conv2d(64, 16, kernel_size=(3, 3), stride=(1, 1), padding=(1, 1), bias=False)\n",
       "        (bn1): BatchNorm2d(16, eps=1e-05, momentum=0.1, affine=True, track_running_stats=True)\n",
       "        (conv2): Conv2d(16, 16, kernel_size=(3, 3), stride=(1, 1), padding=(1, 1), bias=False)\n",
       "        (bn2): BatchNorm2d(16, eps=1e-05, momentum=0.1, affine=True, track_running_stats=True)\n",
       "        (shortcut): Sequential(\n",
       "          (0): Conv2d(64, 16, kernel_size=(1, 1), stride=(1, 1), bias=False)\n",
       "          (1): BatchNorm2d(16, eps=1e-05, momentum=0.1, affine=True, track_running_stats=True)\n",
       "        )\n",
       "      )\n",
       "      (1): BasicBlock(\n",
       "        (conv1): Conv2d(16, 16, kernel_size=(3, 3), stride=(1, 1), padding=(1, 1), bias=False)\n",
       "        (bn1): BatchNorm2d(16, eps=1e-05, momentum=0.1, affine=True, track_running_stats=True)\n",
       "        (conv2): Conv2d(16, 16, kernel_size=(3, 3), stride=(1, 1), padding=(1, 1), bias=False)\n",
       "        (bn2): BatchNorm2d(16, eps=1e-05, momentum=0.1, affine=True, track_running_stats=True)\n",
       "        (shortcut): Sequential()\n",
       "      )\n",
       "      (2): BasicBlock(\n",
       "        (conv1): Conv2d(16, 16, kernel_size=(3, 3), stride=(1, 1), padding=(1, 1), bias=False)\n",
       "        (bn1): BatchNorm2d(16, eps=1e-05, momentum=0.1, affine=True, track_running_stats=True)\n",
       "        (conv2): Conv2d(16, 16, kernel_size=(3, 3), stride=(1, 1), padding=(1, 1), bias=False)\n",
       "        (bn2): BatchNorm2d(16, eps=1e-05, momentum=0.1, affine=True, track_running_stats=True)\n",
       "        (shortcut): Sequential()\n",
       "      )\n",
       "    )\n",
       "    (layer2): Sequential(\n",
       "      (0): BasicBlock(\n",
       "        (conv1): Conv2d(16, 32, kernel_size=(3, 3), stride=(2, 2), padding=(1, 1), bias=False)\n",
       "        (bn1): BatchNorm2d(32, eps=1e-05, momentum=0.1, affine=True, track_running_stats=True)\n",
       "        (conv2): Conv2d(32, 32, kernel_size=(3, 3), stride=(1, 1), padding=(1, 1), bias=False)\n",
       "        (bn2): BatchNorm2d(32, eps=1e-05, momentum=0.1, affine=True, track_running_stats=True)\n",
       "        (shortcut): Sequential(\n",
       "          (0): Conv2d(16, 32, kernel_size=(1, 1), stride=(2, 2), bias=False)\n",
       "          (1): BatchNorm2d(32, eps=1e-05, momentum=0.1, affine=True, track_running_stats=True)\n",
       "        )\n",
       "      )\n",
       "      (1): BasicBlock(\n",
       "        (conv1): Conv2d(32, 32, kernel_size=(3, 3), stride=(1, 1), padding=(1, 1), bias=False)\n",
       "        (bn1): BatchNorm2d(32, eps=1e-05, momentum=0.1, affine=True, track_running_stats=True)\n",
       "        (conv2): Conv2d(32, 32, kernel_size=(3, 3), stride=(1, 1), padding=(1, 1), bias=False)\n",
       "        (bn2): BatchNorm2d(32, eps=1e-05, momentum=0.1, affine=True, track_running_stats=True)\n",
       "        (shortcut): Sequential()\n",
       "      )\n",
       "      (2): BasicBlock(\n",
       "        (conv1): Conv2d(32, 32, kernel_size=(3, 3), stride=(1, 1), padding=(1, 1), bias=False)\n",
       "        (bn1): BatchNorm2d(32, eps=1e-05, momentum=0.1, affine=True, track_running_stats=True)\n",
       "        (conv2): Conv2d(32, 32, kernel_size=(3, 3), stride=(1, 1), padding=(1, 1), bias=False)\n",
       "        (bn2): BatchNorm2d(32, eps=1e-05, momentum=0.1, affine=True, track_running_stats=True)\n",
       "        (shortcut): Sequential()\n",
       "      )\n",
       "    )\n",
       "    (layer3): Sequential(\n",
       "      (0): BasicBlock(\n",
       "        (conv1): Conv2d(32, 64, kernel_size=(3, 3), stride=(2, 2), padding=(1, 1), bias=False)\n",
       "        (bn1): BatchNorm2d(64, eps=1e-05, momentum=0.1, affine=True, track_running_stats=True)\n",
       "        (conv2): Conv2d(64, 64, kernel_size=(3, 3), stride=(1, 1), padding=(1, 1), bias=False)\n",
       "        (bn2): BatchNorm2d(64, eps=1e-05, momentum=0.1, affine=True, track_running_stats=True)\n",
       "        (shortcut): Sequential(\n",
       "          (0): Conv2d(32, 64, kernel_size=(1, 1), stride=(2, 2), bias=False)\n",
       "          (1): BatchNorm2d(64, eps=1e-05, momentum=0.1, affine=True, track_running_stats=True)\n",
       "        )\n",
       "      )\n",
       "      (1): BasicBlock(\n",
       "        (conv1): Conv2d(64, 64, kernel_size=(3, 3), stride=(1, 1), padding=(1, 1), bias=False)\n",
       "        (bn1): BatchNorm2d(64, eps=1e-05, momentum=0.1, affine=True, track_running_stats=True)\n",
       "        (conv2): Conv2d(64, 64, kernel_size=(3, 3), stride=(1, 1), padding=(1, 1), bias=False)\n",
       "        (bn2): BatchNorm2d(64, eps=1e-05, momentum=0.1, affine=True, track_running_stats=True)\n",
       "        (shortcut): Sequential()\n",
       "      )\n",
       "      (2): BasicBlock(\n",
       "        (conv1): Conv2d(64, 64, kernel_size=(3, 3), stride=(1, 1), padding=(1, 1), bias=False)\n",
       "        (bn1): BatchNorm2d(64, eps=1e-05, momentum=0.1, affine=True, track_running_stats=True)\n",
       "        (conv2): Conv2d(64, 64, kernel_size=(3, 3), stride=(1, 1), padding=(1, 1), bias=False)\n",
       "        (bn2): BatchNorm2d(64, eps=1e-05, momentum=0.1, affine=True, track_running_stats=True)\n",
       "        (shortcut): Sequential()\n",
       "      )\n",
       "    )\n",
       "    (linear): Linear(in_features=256, out_features=10, bias=True)\n",
       "  )\n",
       ")"
      ]
     },
     "execution_count": 317,
     "metadata": {},
     "output_type": "execute_result"
    }
   ],
   "source": [
    "params = {\n",
    "\"epochs\": 1,\n",
    "\"modes\": 'kd',\n",
    "\"t_checkpoint\": 'pretrained/resnet20_cifar10.pth',\n",
    "\"results_dir\": Path('results'),\n",
    "\"train_loader\": train_loader,\n",
    "\"test_loader\": test_loader,\n",
    "\"batch_size\": 128,\n",
    "# model configuration\n",
    "\"device\": device,\n",
    "\"teacher_name\": 'resnet18',\n",
    "\"student_name\": 'resnet8',\n",
    "\"num_classes\": 10,\n",
    "# hyperparameters\n",
    "\"weight_decay\": 5e-4,\n",
    "\"learning_rate\": 0.1,\n",
    "\"momentum\": 0.9,\n",
    "\"sched\": 'multisteplr',\n",
    "\"optim\": 'sgd',\n",
    "# fixed knowledge distillation parameters\n",
    "\"lambda_student\": 0.5,\n",
    "\"T_student\": 5,\n",
    "\"augtype\": None\n",
    "}\n",
    "\n",
    "t_net, best_teacher, best_t_acc=setup_teacher('resnet20', params)\n",
    "t_net.eval()"
   ]
  },
  {
   "cell_type": "code",
   "execution_count": 327,
   "metadata": {
    "ExecuteTime": {
     "end_time": "2020-07-16T08:51:26.299889Z",
     "start_time": "2020-07-16T08:50:40.238762Z"
    }
   },
   "outputs": [],
   "source": [
    "i=0\n",
    "# Y18=[None]*10\n",
    "# Y26=[None]*10\n",
    "Y20=[None]*10\n",
    "\n",
    "for x, y in train_loader:\n",
    "    i+=1    \n",
    "    pred=torch.nn.Softmax(dim=1)(t_net(x))\n",
    "#     if Y26[y]==None:\n",
    "#         Y26[y]=[]\n",
    "#         Y26[y].append(pred)\n",
    "#     else:\n",
    "#         Y26[y].append(pred)\n",
    "#     if Y18[y]==None:\n",
    "#         Y18[y]=[]\n",
    "#         Y18[y].append(pred)\n",
    "#     else:\n",
    "#         Y18[y].append(pred)\n",
    "    if Y20[y]==None:\n",
    "        Y20[y]=[]\n",
    "        Y20[y].append(pred)\n",
    "    else:\n",
    "        Y20[y].append(pred)\n",
    "\n",
    "    if i>5000:\n",
    "        break\n",
    "\n",
    "\n",
    "\n",
    "\n",
    "# for i in range(0,10):\n",
    "#     Y26[i]=torch.cat(Y26[i])\n",
    "# torch.save(Y26,'Y26')\n",
    "\n",
    "\n",
    "# for i in range(0,10):\n",
    "#     Y18[i]=torch.cat(Y18[i])\n",
    "# torch.save(Y18,'Y18')\n",
    "\n",
    "for i in range(0,10):\n",
    "    Y20[i]=torch.cat(Y20[i])\n",
    "torch.save(Y20,'Y20')\n",
    "\n",
    "\n",
    "    "
   ]
  },
  {
   "cell_type": "code",
   "execution_count": 312,
   "metadata": {
    "ExecuteTime": {
     "end_time": "2020-06-28T07:22:43.618873Z",
     "start_time": "2020-06-28T07:22:14.883898Z"
    }
   },
   "outputs": [],
   "source": [
    "Y18=torch.load('Y18')\n",
    "Y26=torch.load('Y26')\n"
   ]
  },
  {
   "cell_type": "code",
   "execution_count": 328,
   "metadata": {
    "ExecuteTime": {
     "end_time": "2020-07-16T08:55:34.832111Z",
     "start_time": "2020-07-16T08:55:09.988159Z"
    }
   },
   "outputs": [],
   "source": [
    "Y20=torch.load('Y20')\n"
   ]
  },
  {
   "cell_type": "code",
   "execution_count": 321,
   "metadata": {
    "ExecuteTime": {
     "end_time": "2020-06-28T07:31:10.373140Z",
     "start_time": "2020-06-28T07:31:10.365998Z"
    }
   },
   "outputs": [
    {
     "name": "stdout",
     "output_type": "stream",
     "text": [
      "torch.Size([505, 10]) torch.Size([505, 10]) torch.Size([505, 10])\n"
     ]
    }
   ],
   "source": [
    "print(Y26[0].shape,Y18[0].shape,Y20[0].shape)"
   ]
  },
  {
   "cell_type": "code",
   "execution_count": 314,
   "metadata": {
    "ExecuteTime": {
     "end_time": "2020-06-28T07:25:29.769096Z",
     "start_time": "2020-06-28T07:25:29.760572Z"
    }
   },
   "outputs": [
    {
     "data": {
      "text/plain": [
       "torch.Size([505, 10])"
      ]
     },
     "execution_count": 314,
     "metadata": {},
     "output_type": "execute_result"
    }
   ],
   "source": []
  },
  {
   "cell_type": "code",
   "execution_count": 326,
   "metadata": {
    "ExecuteTime": {
     "end_time": "2020-06-28T07:37:12.246795Z",
     "start_time": "2020-06-28T07:37:10.799271Z"
    }
   },
   "outputs": [
    {
     "name": "stdout",
     "output_type": "stream",
     "text": [
      "tensor([0.04924, 0.00859, 0.01086, 0.00942, 0.00763, 0.00838, 0.00783, 0.00835,\n",
      "        0.01188, 0.01103], grad_fn=<StdBackward1>)\n",
      "tensor([0.00754, 0.04236, 0.00759, 0.00773, 0.00684, 0.00823, 0.00835, 0.00743,\n",
      "        0.00990, 0.01030], grad_fn=<StdBackward1>)\n",
      "tensor([0.01008, 0.00579, 0.04265, 0.00907, 0.01034, 0.01000, 0.00998, 0.00843,\n",
      "        0.00816, 0.00716], grad_fn=<StdBackward1>)\n",
      "tensor([0.00781, 0.00792, 0.00902, 0.05081, 0.00936, 0.01299, 0.01028, 0.00917,\n",
      "        0.00856, 0.00903], grad_fn=<StdBackward1>)\n",
      "tensor([0.00848, 0.00634, 0.01059, 0.01016, 0.04494, 0.01046, 0.00924, 0.00933,\n",
      "        0.00805, 0.00765], grad_fn=<StdBackward1>)\n",
      "tensor([0.00757, 0.00635, 0.01107, 0.01110, 0.01101, 0.05085, 0.00809, 0.01057,\n",
      "        0.00798, 0.00764], grad_fn=<StdBackward1>)\n",
      "tensor([0.00717, 0.00768, 0.01188, 0.01048, 0.00964, 0.00859, 0.04615, 0.00833,\n",
      "        0.00841, 0.00728], grad_fn=<StdBackward1>)\n",
      "tensor([0.00822, 0.00672, 0.00825, 0.00902, 0.00981, 0.00943, 0.00620, 0.04187,\n",
      "        0.00792, 0.00782], grad_fn=<StdBackward1>)\n",
      "tensor([0.00978, 0.00839, 0.00798, 0.00822, 0.00809, 0.00831, 0.00744, 0.00590,\n",
      "        0.04412, 0.00991], grad_fn=<StdBackward1>)\n",
      "tensor([0.00874, 0.01100, 0.00871, 0.00877, 0.00809, 0.00819, 0.00734, 0.00826,\n",
      "        0.01112, 0.04863], grad_fn=<StdBackward1>)\n"
     ]
    },
    {
     "data": {
      "image/png": "[encoded data removed]",
      "text/plain": [
       "<Figure size 1800x720 with 10 Axes>"
      ]
     },
     "metadata": {
      "needs_background": "light"
     },
     "output_type": "display_data"
    }
   ],
   "source": [
    "figure = plt.figure(figsize=(25, 10))\n",
    "a=range(0,10)\n",
    "for i in range(1,11):\n",
    "    ax = plt.subplot(5, 2, i)\n",
    "    plt.bar(a,Y18[i-1].detach().mean(dim=0))\n",
    "    print(Y18[i-1].std(dim=0))\n",
    "plt.tight_layout()\n",
    "plt.show()"
   ]
  },
  {
   "cell_type": "code",
   "execution_count": 329,
   "metadata": {
    "ExecuteTime": {
     "end_time": "2020-07-16T08:55:42.000229Z",
     "start_time": "2020-07-16T08:55:38.654396Z"
    }
   },
   "outputs": [
    {
     "data": {
      "image/png": "[encoded data removed]",
      "text/plain": [
       "<Figure size 1800x720 with 10 Axes>"
      ]
     },
     "metadata": {
      "needs_background": "light"
     },
     "output_type": "display_data"
    }
   ],
   "source": [
    "figure = plt.figure(figsize=(25, 10))\n",
    "a=range(0,10)\n",
    "for i in range(1,11):\n",
    "    ax = plt.subplot(5, 2, i)\n",
    "    plt.bar(a,Y26[i-1].detach().mean(dim=0))\n",
    "plt.tight_layout()\n",
    "plt.show()"
   ]
  },
  {
   "cell_type": "code",
   "execution_count": 335,
   "metadata": {
    "ExecuteTime": {
     "end_time": "2020-07-16T08:59:47.287690Z",
     "start_time": "2020-07-16T08:59:45.957711Z"
    }
   },
   "outputs": [
    {
     "data": {
      "image/png": "[encoded data removed]",
      "text/plain": [
       "<Figure size 1800x720 with 10 Axes>"
      ]
     },
     "metadata": {
      "needs_background": "light"
     },
     "output_type": "display_data"
    }
   ],
   "source": [
    "figure = plt.figure(figsize=(25, 10))\n",
    "a=range(0,10)\n",
    "for i in range(1,11):\n",
    "    ax = plt.subplot(5, 2, i)\n",
    "#     plt.bar(a,Y20[i-1].detach().mean(dim=0))\n",
    "    plt.hist(Y20[i-1].detach()[:,i-1])\n",
    "plt.tight_layout()\n",
    "plt.show()"
   ]
  },
  {
   "cell_type": "code",
   "execution_count": 333,
   "metadata": {
    "ExecuteTime": {
     "end_time": "2020-07-16T08:58:25.475228Z",
     "start_time": "2020-07-16T08:58:25.468309Z"
    }
   },
   "outputs": [
    {
     "data": {
      "text/plain": [
       "tensor([[9.99994e-01, 1.19779e-06, 2.44535e-07, 6.97980e-10, 1.13819e-11,\n",
       "         1.12185e-10, 4.11237e-06, 1.60404e-08, 9.47121e-08, 6.77162e-08],\n",
       "        [9.99999e-01, 2.16184e-08, 1.22297e-07, 6.83505e-10, 1.17196e-06,\n",
       "         1.90095e-10, 1.20849e-09, 1.49768e-08, 2.79377e-08, 2.69534e-08],\n",
       "        [9.99996e-01, 5.34097e-08, 3.07141e-08, 4.85914e-08, 9.52073e-11,\n",
       "         1.73645e-08, 2.68665e-08, 1.28868e-07, 1.23885e-08, 3.66891e-06],\n",
       "        [9.77327e-01, 8.10817e-08, 4.95853e-06, 2.18295e-02, 1.25011e-06,\n",
       "         8.21311e-04, 5.89954e-07, 1.47023e-05, 1.81467e-07, 1.48516e-07],\n",
       "        [9.99984e-01, 8.39965e-08, 1.80023e-10, 1.80202e-11, 1.29703e-10,\n",
       "         1.11368e-12, 2.98587e-13, 2.54844e-10, 9.64038e-06, 6.04756e-06],\n",
       "        [1.00000e+00, 1.01358e-08, 4.00752e-08, 6.89913e-08, 5.64716e-10,\n",
       "         1.72390e-10, 3.00451e-10, 1.54082e-10, 2.37545e-07, 1.29807e-07],\n",
       "        [9.99573e-01, 3.15407e-07, 3.94902e-04, 1.03030e-06, 4.76638e-07,\n",
       "         1.94313e-07, 1.84581e-05, 4.63128e-07, 5.71058e-06, 5.69997e-06],\n",
       "        [1.00000e+00, 7.44889e-09, 3.79028e-08, 6.82052e-09, 2.27498e-09,\n",
       "         4.28372e-12, 2.94838e-10, 5.74551e-11, 4.46949e-08, 9.41194e-09],\n",
       "        [1.00000e+00, 7.81955e-08, 1.59989e-10, 1.45637e-10, 7.23250e-11,\n",
       "         6.73447e-12, 5.38244e-10, 1.25012e-08, 5.59018e-08, 1.90977e-07]],\n",
       "       grad_fn=<SliceBackward>)"
      ]
     },
     "execution_count": 333,
     "metadata": {},
     "output_type": "execute_result"
    }
   ],
   "source": []
  },
  {
   "cell_type": "markdown",
   "metadata": {
    "ExecuteTime": {
     "end_time": "2020-05-14T07:26:04.510488Z",
     "start_time": "2020-05-14T07:26:04.403191Z"
    }
   },
   "source": [
    "# GradCam"
   ]
  },
  {
   "cell_type": "code",
   "execution_count": 15,
   "metadata": {
    "ExecuteTime": {
     "end_time": "2020-06-22T07:15:16.957353Z",
     "start_time": "2020-06-22T07:15:16.776159Z"
    }
   },
   "outputs": [],
   "source": [
    "from torchray.attribution.grad_cam import grad_cam\n",
    "from torchray.attribution.gradient import gradient\n",
    "import cv2\n",
    "\n",
    "\n",
    "upsample = torch.nn.Upsample(size=(32, 32))\n",
    "upsample = torch.nn.UpsamplingBilinear2d(size=(32,32))\n",
    "torch.set_printoptions(edgeitems=32)\n",
    "mp = nn.AvgPool2d(4, stride=1,padding=0)#default=8\n",
    "ap = nn.MaxPool2d(4, stride=1,padding=2)#default=8"
   ]
  },
  {
   "cell_type": "code",
   "execution_count": 16,
   "metadata": {
    "ExecuteTime": {
     "end_time": "2020-06-22T07:15:18.625391Z",
     "start_time": "2020-06-22T07:15:18.617425Z"
    }
   },
   "outputs": [],
   "source": [
    "# # print(saliency_grad[0,0])\n",
    "# def hook(module, input, output):\n",
    "#     outputs.append(output)\n",
    "normalize = transforms.Normalize(\n",
    "            (0.4914, 0.4822, 0.4465), (0.2023, 0.1994, 0.2010))\n",
    "back=normalize(torch.zeros(3,32,32))\n",
    "# plot_timage(b)\n",
    "back.expand(10,3,32,32).shape\n",
    "\n",
    "def blur(img,kernel_size,sigma):\n",
    "    if len(img.shape)==4:\n",
    "        img=img[0]\n",
    "    img=np.transpose(img, (1,2,0))\n",
    "    blurred_img = torch.tensor(cv2.GaussianBlur(img.numpy(), (kernel_size, kernel_size), sigma))\n",
    "    return np.transpose(blurred_img, (2,0,1))"
   ]
  },
  {
   "cell_type": "code",
   "execution_count": 17,
   "metadata": {
    "ExecuteTime": {
     "end_time": "2020-06-22T07:15:23.408994Z",
     "start_time": "2020-06-22T07:15:20.446484Z"
    }
   },
   "outputs": [
    {
     "data": {
      "image/png": "[encoded data removed]",
      "text/plain": [
       "<Figure size 432x288 with 1 Axes>"
      ]
     },
     "metadata": {
      "needs_background": "light"
     },
     "output_type": "display_data"
    },
    {
     "data": {
      "image/png": "[encoded data removed]",
      "text/plain": [
       "<Figure size 432x288 with 1 Axes>"
      ]
     },
     "metadata": {
      "needs_background": "light"
     },
     "output_type": "display_data"
    },
    {
     "data": {
      "image/png": "[encoded data removed]",
      "text/plain": [
       "<Figure size 432x288 with 1 Axes>"
      ]
     },
     "metadata": {
      "needs_background": "light"
     },
     "output_type": "display_data"
    },
    {
     "data": {
      "image/png": "[encoded data removed]",
      "text/plain": [
       "<Figure size 432x288 with 1 Axes>"
      ]
     },
     "metadata": {
      "needs_background": "light"
     },
     "output_type": "display_data"
    },
    {
     "data": {
      "image/png": "[encoded data removed]",
      "text/plain": [
       "<Figure size 432x288 with 1 Axes>"
      ]
     },
     "metadata": {
      "needs_background": "light"
     },
     "output_type": "display_data"
    },
    {
     "data": {
      "image/png": "[encoded data removed]",
      "text/plain": [
       "<Figure size 432x288 with 1 Axes>"
      ]
     },
     "metadata": {
      "needs_background": "light"
     },
     "output_type": "display_data"
    },
    {
     "data": {
      "image/png": "[encoded data removed]",
      "text/plain": [
       "<Figure size 432x288 with 1 Axes>"
      ]
     },
     "metadata": {
      "needs_background": "light"
     },
     "output_type": "display_data"
    },
    {
     "data": {
      "image/png": "[encoded data removed]",
      "text/plain": [
       "<Figure size 432x288 with 1 Axes>"
      ]
     },
     "metadata": {
      "needs_background": "light"
     },
     "output_type": "display_data"
    },
    {
     "data": {
      "image/png": "[encoded data removed]",
      "text/plain": [
       "<Figure size 432x288 with 1 Axes>"
      ]
     },
     "metadata": {
      "needs_background": "light"
     },
     "output_type": "display_data"
    },
    {
     "data": {
      "image/png": "[encoded data removed]",
      "text/plain": [
       "<Figure size 432x288 with 1 Axes>"
      ]
     },
     "metadata": {
      "needs_background": "light"
     },
     "output_type": "display_data"
    },
    {
     "data": {
      "image/png": "[encoded data removed]",
      "text/plain": [
       "<Figure size 432x288 with 1 Axes>"
      ]
     },
     "metadata": {
      "needs_background": "light"
     },
     "output_type": "display_data"
    },
    {
     "data": {
      "image/png": "[encoded data removed]",
      "text/plain": [
       "<Figure size 432x288 with 1 Axes>"
      ]
     },
     "metadata": {
      "needs_background": "light"
     },
     "output_type": "display_data"
    },
    {
     "data": {
      "image/png": "[encoded data removed]",
      "text/plain": [
       "<Figure size 432x288 with 1 Axes>"
      ]
     },
     "metadata": {
      "needs_background": "light"
     },
     "output_type": "display_data"
    },
    {
     "data": {
      "image/png": "[encoded data removed]",
      "text/plain": [
       "<Figure size 432x288 with 1 Axes>"
      ]
     },
     "metadata": {
      "needs_background": "light"
     },
     "output_type": "display_data"
    },
    {
     "data": {
      "image/png": "[encoded data removed]",
      "text/plain": [
       "<Figure size 432x288 with 1 Axes>"
      ]
     },
     "metadata": {
      "needs_background": "light"
     },
     "output_type": "display_data"
    },
    {
     "data": {
      "image/png": "[encoded data removed]",
      "text/plain": [
       "<Figure size 432x288 with 1 Axes>"
      ]
     },
     "metadata": {
      "needs_background": "light"
     },
     "output_type": "display_data"
    },
    {
     "data": {
      "image/png": "[encoded data removed]",
      "text/plain": [
       "<Figure size 432x288 with 1 Axes>"
      ]
     },
     "metadata": {
      "needs_background": "light"
     },
     "output_type": "display_data"
    },
    {
     "data": {
      "image/png": "[encoded data removed]",
      "text/plain": [
       "<Figure size 432x288 with 1 Axes>"
      ]
     },
     "metadata": {
      "needs_background": "light"
     },
     "output_type": "display_data"
    },
    {
     "data": {
      "image/png": "[encoded data removed]",
      "text/plain": [
       "<Figure size 432x288 with 1 Axes>"
      ]
     },
     "metadata": {
      "needs_background": "light"
     },
     "output_type": "display_data"
    },
    {
     "data": {
      "image/png": "[encoded data removed]",
      "text/plain": [
       "<Figure size 432x288 with 1 Axes>"
      ]
     },
     "metadata": {
      "needs_background": "light"
     },
     "output_type": "display_data"
    }
   ],
   "source": [
    "s=0\n",
    "for i in range(s,s+5):\n",
    "    plot_timage(x[i])\n",
    "#     saliency = grad_cam(t_net, x[i:i+1], y[i], saliency_layer='module.layer3.1.conv2')\n",
    "    saliency = gradient(t_net, x[i:i+1], y[i:i+1])\n",
    "#     print(saliency)\n",
    "#     saliency=mp(saliency)\n",
    "#     saliency=mp(saliency)\n",
    "#     saliency=mp(saliency)\n",
    "    saliency=upsample(saliency.detach())\n",
    "    plot_mask(saliency[0,0])\n",
    "    \n",
    "#     plot_timage(x[i]+noise)\n",
    "    \n",
    "    th=saliency.view(-1).sort()[0][int(32*32*torch.randint(4,6,(1,))*0.1)]\n",
    "    mask=(saliency>th).float()\n",
    "    plot_mask(mask)\n",
    "#     \n",
    "    noise=(0.04**0.5)*torch.randn(x[i:i+1].shape)\n",
    "    mimage=x[i:i+1]*mask+(1-mask)*torch.zeros(1,3,32,32)\n",
    "    plot_timage(mimage)"
   ]
  },
  {
   "cell_type": "code",
   "execution_count": 162,
   "metadata": {
    "ExecuteTime": {
     "end_time": "2020-06-28T03:47:57.747821Z",
     "start_time": "2020-06-28T03:47:57.458468Z"
    }
   },
   "outputs": [],
   "source": [
    "x,y=iter(train_loader).next()\n"
   ]
  },
  {
   "cell_type": "code",
   "execution_count": 171,
   "metadata": {
    "ExecuteTime": {
     "end_time": "2020-06-28T03:58:14.081487Z",
     "start_time": "2020-06-28T03:58:12.056800Z"
    }
   },
   "outputs": [],
   "source": []
  },
  {
   "cell_type": "code",
   "execution_count": 172,
   "metadata": {
    "ExecuteTime": {
     "end_time": "2020-06-28T03:58:15.276150Z",
     "start_time": "2020-06-28T03:58:15.272428Z"
    }
   },
   "outputs": [],
   "source": [
    "torch.save(z,f='x.txt',)"
   ]
  },
  {
   "cell_type": "code",
   "execution_count": 173,
   "metadata": {
    "ExecuteTime": {
     "end_time": "2020-06-28T03:58:17.195660Z",
     "start_time": "2020-06-28T03:58:17.071010Z"
    }
   },
   "outputs": [],
   "source": [
    "z=torch.load(f='x.txt')"
   ]
  },
  {
   "cell_type": "code",
   "execution_count": 174,
   "metadata": {
    "ExecuteTime": {
     "end_time": "2020-06-28T03:58:18.434358Z",
     "start_time": "2020-06-28T03:58:18.427022Z"
    }
   },
   "outputs": [
    {
     "data": {
      "text/plain": [
       "torch.Size([128, 10])"
      ]
     },
     "execution_count": 174,
     "metadata": {},
     "output_type": "execute_result"
    }
   ],
   "source": [
    "z.shape"
   ]
  },
  {
   "cell_type": "code",
   "execution_count": 26,
   "metadata": {
    "ExecuteTime": {
     "end_time": "2020-06-22T08:13:15.089158Z",
     "start_time": "2020-06-22T08:13:15.083344Z"
    }
   },
   "outputs": [],
   "source": [
    "from numpy.random import beta"
   ]
  },
  {
   "cell_type": "code",
   "execution_count": 150,
   "metadata": {
    "ExecuteTime": {
     "end_time": "2020-06-23T06:29:01.004202Z",
     "start_time": "2020-06-23T06:29:00.984165Z"
    }
   },
   "outputs": [],
   "source": [
    "\n",
    "\n",
    "def one_hot(x, n_class, dtype=torch.float32): \n",
    "    # X shape: (batch), output shape: (batch, n_class)\n",
    "    x = x.long()\n",
    "    res = torch.zeros(x.shape[0], n_class, dtype=dtype, device=x.device)\n",
    "    res.scatter_(1, x.view(-1, 1), 1)\n",
    "    return res\n",
    "\n",
    "def rand_bbox(size, lam):\n",
    "\tW = size[2]\n",
    "\tH = size[3]\n",
    "\tcut_rat = np.sqrt(1. - lam)\n",
    "\tcut_w = np.int(W * cut_rat)\n",
    "\tcut_h = np.int(H * cut_rat)\n",
    "\n",
    "\t# uniform\n",
    "\tcx = np.random.randint(W)\n",
    "\tcy = np.random.randint(H)\n",
    "\n",
    "\tbbx1 = np.clip(cx - cut_w // 2, 0, W)\n",
    "\tbby1 = np.clip(cy - cut_h // 2, 0, H)\n",
    "\tbbx2 = np.clip(cx + cut_w // 2, 0, W)\n",
    "\tbby2 = np.clip(cy + cut_h // 2, 0, H)\n",
    "\n",
    "\treturn bbx1, bby1, bbx2, bby2\n",
    "def augdata(input, target):\n",
    "    target=one_hot(target,10)\n",
    "    lam= beta(0.2,  0.2)\n",
    "    rand_index = torch.randperm(input.size(0))\n",
    "    target_a = target\n",
    "    target_b = target[rand_index]\n",
    "    bbx1, bby1, bbx2, bby2 = rand_bbox(input.size(), lam)\n",
    "    lam_t = 1 - ((bbx2 - bbx1) * (bby2 - bby1) / (input.size()[-1] * input.size()[-2]))\n",
    "    inputx=input.clone()\n",
    "    inputx[:, :, bbx1:bbx2, bby1:bby2] = input[rand_index, :, bbx1:bbx2, bby1:bby2]\n",
    "    return inputx, target_a*lam_t+target_b * (1. - lam_t)\n",
    "\n",
    "def augdatax(input, target):\n",
    "    target=one_hot(target,10)\n",
    "    lam= beta(0.2,  0.2)\n",
    "    rand_index = torch.randperm(input.size(0))\n",
    "    \n",
    "  \n",
    "    target_a = target\n",
    "    target_b = target[rand_index]\n",
    "    bbx1, bby1, bbx2, bby2 = rand_bbox(input.size(), lam)\n",
    "    inputx=input.clone()\n",
    "    inputx[:, :, bbx1:bbx2, bby1:bby2] = input[rand_index, :, bbx1:bbx2, bby1:bby2]\n",
    "\n",
    "    n_sample=input.size(0)\n",
    "    saliency = gradient(t_net, input, target)\n",
    "    smax=saliency.view( n_sample,-1).sum(dim=1)\n",
    "    mask=torch.ones(saliency.shape)\n",
    "    mask[:,:,bbx1:bbx2, bby1:bby2]=0\n",
    "    sa=(saliency*mask).view(n_sample,-1).sum(dim=1)/smax\n",
    "    \n",
    "    sb=saliency[rand_index, :, bbx1:bbx2, bby1:bby2].view( n_sample,-1).sum(dim=1)/smax[rand_index]\n",
    "    lam_t=sa/(sa+sb)\n",
    "    print(sa,sb,lam_t)\n",
    "    print(target_a)\n",
    "    print(target_b)\n",
    "    lam_t=(lam_t.unsqueeze(1)).expand(n_sample,10)\n",
    "    print(target_a*lam_t+target_b * (1. - lam_t))\n",
    "    return inputx, target_a*lam_t+target_b * (1. - lam_t)\n",
    "\n"
   ]
  },
  {
   "cell_type": "code",
   "execution_count": 144,
   "metadata": {
    "ExecuteTime": {
     "end_time": "2020-06-23T06:24:45.553771Z",
     "start_time": "2020-06-23T06:24:45.543014Z"
    }
   },
   "outputs": [
    {
     "data": {
      "text/plain": [
       "torch.Size([5, 1])"
      ]
     },
     "execution_count": 144,
     "metadata": {},
     "output_type": "execute_result"
    }
   ],
   "source": [
    "l1=torch.rand(5)\n",
    "# l1=l1.expand(5,10)\n",
    "# l2=torch.rand(5,10)\n",
    "# l1*l2\n",
    "l1.unsqueeze(1).shape"
   ]
  },
  {
   "cell_type": "code",
   "execution_count": 154,
   "metadata": {
    "ExecuteTime": {
     "end_time": "2020-06-23T06:30:07.936521Z",
     "start_time": "2020-06-23T06:30:07.931744Z"
    }
   },
   "outputs": [],
   "source": [
    "i=0\n",
    "X=x[i:i+10]\n",
    "Y=y[i:i+10]\n",
    "# saliency = gradient(t_net, X, Y)\n",
    "\n",
    "\n",
    "\n"
   ]
  },
  {
   "cell_type": "code",
   "execution_count": 70,
   "metadata": {
    "ExecuteTime": {
     "end_time": "2020-06-23T05:09:51.607847Z",
     "start_time": "2020-06-23T05:09:51.602513Z"
    }
   },
   "outputs": [
    {
     "data": {
      "text/plain": [
       "tensor([119.4203,  84.5336, 246.7126, 183.8685,  97.8528,  40.3200, 104.4852,\n",
       "         82.9226, 180.6544,  34.3183])"
      ]
     },
     "execution_count": 70,
     "metadata": {},
     "output_type": "execute_result"
    }
   ],
   "source": [
    "smax"
   ]
  },
  {
   "cell_type": "code",
   "execution_count": 156,
   "metadata": {
    "ExecuteTime": {
     "end_time": "2020-06-23T06:30:16.725318Z",
     "start_time": "2020-06-23T06:30:16.233606Z"
    }
   },
   "outputs": [
    {
     "name": "stdout",
     "output_type": "stream",
     "text": [
      "tensor([0.1516, 0.1523, 0.0894, 0.2162, 0.0405, 0.0606, 0.1545, 0.2037, 0.1286,\n",
      "        0.3006]) tensor([0.8714, 0.8455, 0.7963, 0.8484, 0.9394, 0.8477, 0.7838, 0.9106, 0.6994,\n",
      "        0.9595]) tensor([0.1482, 0.1527, 0.1009, 0.2031, 0.0413, 0.0668, 0.1647, 0.1828, 0.1553,\n",
      "        0.2385])\n",
      "tensor([[0., 0., 0., 0., 0., 1., 0., 0., 0., 0.],\n",
      "        [0., 0., 0., 0., 1., 0., 0., 0., 0., 0.],\n",
      "        [0., 0., 0., 1., 0., 0., 0., 0., 0., 0.],\n",
      "        [0., 1., 0., 0., 0., 0., 0., 0., 0., 0.],\n",
      "        [0., 0., 1., 0., 0., 0., 0., 0., 0., 0.],\n",
      "        [0., 0., 0., 0., 1., 0., 0., 0., 0., 0.],\n",
      "        [0., 0., 1., 0., 0., 0., 0., 0., 0., 0.],\n",
      "        [0., 0., 0., 0., 0., 1., 0., 0., 0., 0.],\n",
      "        [0., 0., 0., 0., 0., 0., 0., 0., 0., 1.],\n",
      "        [0., 0., 0., 0., 0., 0., 1., 0., 0., 0.]])\n",
      "tensor([[0., 0., 0., 0., 0., 0., 0., 0., 0., 1.],\n",
      "        [0., 0., 1., 0., 0., 0., 0., 0., 0., 0.],\n",
      "        [0., 0., 0., 0., 0., 1., 0., 0., 0., 0.],\n",
      "        [0., 0., 0., 0., 0., 1., 0., 0., 0., 0.],\n",
      "        [0., 0., 0., 0., 1., 0., 0., 0., 0., 0.],\n",
      "        [0., 0., 0., 0., 1., 0., 0., 0., 0., 0.],\n",
      "        [0., 1., 0., 0., 0., 0., 0., 0., 0., 0.],\n",
      "        [0., 0., 0., 1., 0., 0., 0., 0., 0., 0.],\n",
      "        [0., 0., 0., 0., 0., 0., 1., 0., 0., 0.],\n",
      "        [0., 0., 1., 0., 0., 0., 0., 0., 0., 0.]])\n",
      "tensor([[0.0000, 0.0000, 0.0000, 0.0000, 0.0000, 0.1482, 0.0000, 0.0000, 0.0000,\n",
      "         0.8518],\n",
      "        [0.0000, 0.0000, 0.8473, 0.0000, 0.1527, 0.0000, 0.0000, 0.0000, 0.0000,\n",
      "         0.0000],\n",
      "        [0.0000, 0.0000, 0.0000, 0.1009, 0.0000, 0.8991, 0.0000, 0.0000, 0.0000,\n",
      "         0.0000],\n",
      "        [0.0000, 0.2031, 0.0000, 0.0000, 0.0000, 0.7969, 0.0000, 0.0000, 0.0000,\n",
      "         0.0000],\n",
      "        [0.0000, 0.0000, 0.0413, 0.0000, 0.9587, 0.0000, 0.0000, 0.0000, 0.0000,\n",
      "         0.0000],\n",
      "        [0.0000, 0.0000, 0.0000, 0.0000, 1.0000, 0.0000, 0.0000, 0.0000, 0.0000,\n",
      "         0.0000],\n",
      "        [0.0000, 0.8353, 0.1647, 0.0000, 0.0000, 0.0000, 0.0000, 0.0000, 0.0000,\n",
      "         0.0000],\n",
      "        [0.0000, 0.0000, 0.0000, 0.8172, 0.0000, 0.1828, 0.0000, 0.0000, 0.0000,\n",
      "         0.0000],\n",
      "        [0.0000, 0.0000, 0.0000, 0.0000, 0.0000, 0.0000, 0.8447, 0.0000, 0.0000,\n",
      "         0.1553],\n",
      "        [0.0000, 0.0000, 0.7615, 0.0000, 0.0000, 0.0000, 0.2385, 0.0000, 0.0000,\n",
      "         0.0000]])\n"
     ]
    }
   ],
   "source": [
    "ag, agy=augdatax(X, Y)"
   ]
  },
  {
   "cell_type": "code",
   "execution_count": 157,
   "metadata": {
    "ExecuteTime": {
     "end_time": "2020-06-23T06:30:26.943833Z",
     "start_time": "2020-06-23T06:30:25.155314Z"
    }
   },
   "outputs": [
    {
     "name": "stdout",
     "output_type": "stream",
     "text": [
      "tensor([[6.4676e-06, 2.8595e-05, 5.6184e-06, 5.4803e-06, 4.2384e-06, 8.9399e-06,\n",
      "         3.5871e-06, 4.5168e-06, 7.3682e-06, 9.9993e-01]],\n",
      "       grad_fn=<SoftmaxBackward>)\n",
      "tensor([0.0000, 0.0000, 0.0000, 0.0000, 0.0000, 0.1482, 0.0000, 0.0000, 0.0000,\n",
      "        0.8518])\n",
      "(tensor(5), 9) tensor(0.9999, grad_fn=<SelectBackward>) tensor(0.0585)\n"
     ]
    },
    {
     "data": {
      "image/png": "[encoded data removed]",
      "text/plain": [
       "<Figure size 432x288 with 1 Axes>"
      ]
     },
     "metadata": {
      "needs_background": "light"
     },
     "output_type": "display_data"
    },
    {
     "name": "stdout",
     "output_type": "stream",
     "text": [
      "tensor([[2.8740e-05, 1.4232e-05, 9.9974e-01, 3.7711e-05, 3.6874e-05, 3.9583e-05,\n",
      "         2.2302e-05, 4.6551e-05, 2.4903e-05, 7.3148e-06]],\n",
      "       grad_fn=<SoftmaxBackward>)\n",
      "tensor([0.0000, 0.0000, 0.8473, 0.0000, 0.1527, 0.0000, 0.0000, 0.0000, 0.0000,\n",
      "        0.0000])\n",
      "(tensor(4), 2) tensor(0.9997, grad_fn=<SelectBackward>) tensor(0.0668)\n"
     ]
    },
    {
     "data": {
      "image/png": "[encoded data removed]",
      "text/plain": [
       "<Figure size 432x288 with 1 Axes>"
      ]
     },
     "metadata": {
      "needs_background": "light"
     },
     "output_type": "display_data"
    },
    {
     "name": "stdout",
     "output_type": "stream",
     "text": [
      "tensor([[1.2371e-04, 6.0362e-05, 9.2245e-05, 3.2307e-04, 1.0703e-04, 9.9905e-01,\n",
      "         3.8915e-05, 9.1275e-05, 7.7279e-05, 3.2923e-05]],\n",
      "       grad_fn=<SoftmaxBackward>)\n",
      "tensor([0.0000, 0.0000, 0.0000, 0.1009, 0.0000, 0.8991, 0.0000, 0.0000, 0.0000,\n",
      "        0.0000])\n",
      "(tensor(3), 5) tensor(0.9991, grad_fn=<SelectBackward>) tensor(0.0552)\n"
     ]
    },
    {
     "data": {
      "image/png": "[encoded data removed]",
      "text/plain": [
       "<Figure size 432x288 with 1 Axes>"
      ]
     },
     "metadata": {
      "needs_background": "light"
     },
     "output_type": "display_data"
    },
    {
     "name": "stdout",
     "output_type": "stream",
     "text": [
      "tensor([[3.6810e-05, 5.4228e-05, 1.4602e-04, 2.7098e-04, 8.2268e-05, 9.9910e-01,\n",
      "         5.3869e-05, 1.7790e-04, 2.6817e-05, 5.2739e-05]],\n",
      "       grad_fn=<SoftmaxBackward>)\n",
      "tensor([0.0000, 0.2031, 0.0000, 0.0000, 0.0000, 0.7969, 0.0000, 0.0000, 0.0000,\n",
      "        0.0000])\n",
      "(tensor(1), 5) tensor(0.9991, grad_fn=<SelectBackward>) tensor(0.0552)\n"
     ]
    },
    {
     "data": {
      "image/png": "[encoded data removed]",
      "text/plain": [
       "<Figure size 432x288 with 1 Axes>"
      ]
     },
     "metadata": {
      "needs_background": "light"
     },
     "output_type": "display_data"
    },
    {
     "name": "stdout",
     "output_type": "stream",
     "text": [
      "tensor([[2.0170e-05, 1.3937e-05, 7.4728e-05, 3.5065e-05, 9.9969e-01, 4.5336e-05,\n",
      "         3.9381e-05, 4.9906e-05, 1.6013e-05, 1.4624e-05]],\n",
      "       grad_fn=<SoftmaxBackward>)\n",
      "tensor([0.0000, 0.0000, 0.0413, 0.0000, 0.9587, 0.0000, 0.0000, 0.0000, 0.0000,\n",
      "        0.0000])\n",
      "(tensor(2), 4) tensor(0.9997, grad_fn=<SelectBackward>) tensor(0.0619)\n"
     ]
    },
    {
     "data": {
      "image/png": "[encoded data removed]",
      "text/plain": [
       "<Figure size 432x288 with 1 Axes>"
      ]
     },
     "metadata": {
      "needs_background": "light"
     },
     "output_type": "display_data"
    },
    {
     "name": "stdout",
     "output_type": "stream",
     "text": [
      "tensor([[3.8616e-04, 4.5123e-05, 1.3463e-04, 8.3922e-05, 9.9871e-01, 2.0022e-04,\n",
      "         5.5379e-05, 2.3393e-04, 8.7095e-05, 6.7684e-05]],\n",
      "       grad_fn=<SoftmaxBackward>)\n",
      "tensor([0., 0., 0., 0., 1., 0., 0., 0., 0., 0.])\n",
      "(tensor(4), 4) tensor(0.9987, grad_fn=<SelectBackward>) tensor(0.0619)\n"
     ]
    },
    {
     "data": {
      "image/png": "[encoded data removed]",
      "text/plain": [
       "<Figure size 432x288 with 1 Axes>"
      ]
     },
     "metadata": {
      "needs_background": "light"
     },
     "output_type": "display_data"
    },
    {
     "name": "stdout",
     "output_type": "stream",
     "text": [
      "tensor([[4.2843e-04, 9.9104e-01, 5.9655e-03, 7.2411e-05, 2.8434e-04, 1.1802e-04,\n",
      "         1.2587e-04, 1.6976e-04, 3.2136e-04, 1.4695e-03]],\n",
      "       grad_fn=<SoftmaxBackward>)\n",
      "tensor([0.0000, 0.8353, 0.1647, 0.0000, 0.0000, 0.0000, 0.0000, 0.0000, 0.0000,\n",
      "        0.0000])\n",
      "(tensor(2), 1) tensor(0.9910, grad_fn=<SelectBackward>) tensor(0.0601)\n"
     ]
    },
    {
     "data": {
      "image/png": "[encoded data removed]",
      "text/plain": [
       "<Figure size 432x288 with 1 Axes>"
      ]
     },
     "metadata": {
      "needs_background": "light"
     },
     "output_type": "display_data"
    },
    {
     "name": "stdout",
     "output_type": "stream",
     "text": [
      "tensor([[5.9150e-04, 9.1833e-04, 6.5363e-03, 7.2737e-01, 3.6674e-03, 1.6517e-03,\n",
      "         2.5575e-01, 1.2922e-03, 9.4218e-04, 1.2808e-03]],\n",
      "       grad_fn=<SoftmaxBackward>)\n",
      "tensor([0.0000, 0.0000, 0.0000, 0.8172, 0.0000, 0.1828, 0.0000, 0.0000, 0.0000,\n",
      "        0.0000])\n",
      "(tensor(5), 3) tensor(0.7274, grad_fn=<SelectBackward>) tensor(0.0633)\n"
     ]
    },
    {
     "data": {
      "image/png": "[encoded data removed]",
      "text/plain": [
       "<Figure size 432x288 with 1 Axes>"
      ]
     },
     "metadata": {
      "needs_background": "light"
     },
     "output_type": "display_data"
    },
    {
     "name": "stdout",
     "output_type": "stream",
     "text": [
      "tensor([[9.1057e-04, 3.9615e-04, 1.8483e-03, 3.5922e-03, 1.2651e-03, 4.0917e-04,\n",
      "         9.8798e-01, 5.3126e-04, 7.3219e-04, 2.3373e-03]],\n",
      "       grad_fn=<SoftmaxBackward>)\n",
      "tensor([0.0000, 0.0000, 0.0000, 0.0000, 0.0000, 0.0000, 0.8447, 0.0000, 0.0000,\n",
      "        0.1553])\n",
      "(tensor(9), 6) tensor(0.9880, grad_fn=<SelectBackward>) tensor(0.0553)\n"
     ]
    },
    {
     "data": {
      "image/png": "[encoded data removed]",
      "text/plain": [
       "<Figure size 432x288 with 1 Axes>"
      ]
     },
     "metadata": {
      "needs_background": "light"
     },
     "output_type": "display_data"
    },
    {
     "name": "stdout",
     "output_type": "stream",
     "text": [
      "tensor([[1.4796e-04, 2.9207e-05, 9.9923e-01, 8.2356e-05, 1.4810e-04, 4.5206e-05,\n",
      "         6.2210e-05, 7.3464e-05, 7.4280e-05, 1.1151e-04]],\n",
      "       grad_fn=<SoftmaxBackward>)\n",
      "tensor([0.0000, 0.0000, 0.7615, 0.0000, 0.0000, 0.0000, 0.2385, 0.0000, 0.0000,\n",
      "        0.0000])\n",
      "(tensor(6), 2) tensor(0.9992, grad_fn=<SelectBackward>) tensor(0.0668)\n"
     ]
    },
    {
     "data": {
      "image/png": "[encoded data removed]",
      "text/plain": [
       "<Figure size 432x288 with 1 Axes>"
      ]
     },
     "metadata": {
      "needs_background": "light"
     },
     "output_type": "display_data"
    }
   ],
   "source": [
    "\n",
    "\n",
    "for i,im in enumerate(ag):\n",
    "    target = torch.nn.Softmax(dim=1)(t_net(im.unsqueeze(0)))\n",
    "    category = np.argmax(target.cpu().data.numpy())\n",
    "    print(target)\n",
    "    print(agy[i].detach())\n",
    "    print((Y[i],category),target[0][category],target1[0][category])\n",
    "    plot_timage(im.detach())\n"
   ]
  },
  {
   "cell_type": "code",
   "execution_count": 647,
   "metadata": {
    "ExecuteTime": {
     "end_time": "2020-06-12T12:30:50.864492Z",
     "start_time": "2020-06-12T12:30:50.843922Z"
    }
   },
   "outputs": [
    {
     "data": {
      "text/plain": [
       "tensor([ 0,  2, 32])"
      ]
     },
     "execution_count": 647,
     "metadata": {},
     "output_type": "execute_result"
    }
   ],
   "source": []
  },
  {
   "cell_type": "code",
   "execution_count": null,
   "metadata": {
    "ExecuteTime": {
     "end_time": "2020-06-22T07:15:35.252000Z",
     "start_time": "2020-06-22T07:15:35.246138Z"
    }
   },
   "outputs": [],
   "source": []
  },
  {
   "cell_type": "code",
   "execution_count": null,
   "metadata": {
    "ExecuteTime": {
     "end_time": "2020-06-22T07:15:36.446638Z",
     "start_time": "2020-06-22T07:15:36.430457Z"
    }
   },
   "outputs": [],
   "source": []
  },
  {
   "cell_type": "code",
   "execution_count": 736,
   "metadata": {
    "ExecuteTime": {
     "end_time": "2020-06-12T14:45:08.831124Z",
     "start_time": "2020-06-12T14:45:08.825790Z"
    }
   },
   "outputs": [
    {
     "data": {
      "text/plain": [
       "torch.Size([10, 3, 32, 32])"
      ]
     },
     "execution_count": 736,
     "metadata": {},
     "output_type": "execute_result"
    }
   ],
   "source": []
  },
  {
   "cell_type": "code",
   "execution_count": null,
   "metadata": {
    "ExecuteTime": {
     "end_time": "2020-06-22T07:15:41.706705Z",
     "start_time": "2020-06-22T07:15:38.772756Z"
    }
   },
   "outputs": [],
   "source": []
  },
  {
   "cell_type": "code",
   "execution_count": 550,
   "metadata": {
    "ExecuteTime": {
     "end_time": "2020-06-03T07:37:39.580984Z",
     "start_time": "2020-06-03T07:37:39.574875Z"
    }
   },
   "outputs": [],
   "source": [
    "grad=torch.rand(3,3,32,32)"
   ]
  },
  {
   "cell_type": "code",
   "execution_count": 586,
   "metadata": {
    "ExecuteTime": {
     "end_time": "2020-06-04T07:28:00.935280Z",
     "start_time": "2020-06-04T07:28:00.926162Z"
    }
   },
   "outputs": [
    {
     "data": {
      "text/plain": [
       "tensor([0.9998, 1.0000, 0.9994])"
      ]
     },
     "execution_count": 586,
     "metadata": {},
     "output_type": "execute_result"
    }
   ],
   "source": [
    "mx=grad.view(3,-1).max(dim=1)[0]\n",
    "mx"
   ]
  },
  {
   "cell_type": "code",
   "execution_count": 558,
   "metadata": {
    "ExecuteTime": {
     "end_time": "2020-06-03T08:00:23.618551Z",
     "start_time": "2020-06-03T08:00:23.613656Z"
    }
   },
   "outputs": [
    {
     "data": {
      "text/plain": [
       "tensor([0.4976, 0.5028, 0.5061])"
      ]
     },
     "execution_count": 558,
     "metadata": {},
     "output_type": "execute_result"
    }
   ],
   "source": [
    "me=grad.view(3,-1).mean(dim=1)\n",
    "me"
   ]
  },
  {
   "cell_type": "code",
   "execution_count": 584,
   "metadata": {
    "ExecuteTime": {
     "end_time": "2020-06-04T07:26:43.639681Z",
     "start_time": "2020-06-04T07:26:43.588337Z"
    }
   },
   "outputs": [
    {
     "data": {
      "text/plain": [
       "tensor([2.0093, 1.9887, 1.9746])"
      ]
     },
     "execution_count": 584,
     "metadata": {},
     "output_type": "execute_result"
    }
   ],
   "source": [
    "mx/me"
   ]
  },
  {
   "cell_type": "code",
   "execution_count": 605,
   "metadata": {
    "ExecuteTime": {
     "end_time": "2020-06-12T07:53:57.120887Z",
     "start_time": "2020-06-12T07:53:57.073272Z"
    }
   },
   "outputs": [],
   "source": [
    "from numpy.random import beta\n"
   ]
  },
  {
   "cell_type": "code",
   "execution_count": 643,
   "metadata": {
    "ExecuteTime": {
     "end_time": "2020-06-12T09:27:26.358518Z",
     "start_time": "2020-06-12T09:27:26.354363Z"
    }
   },
   "outputs": [
    {
     "name": "stdout",
     "output_type": "stream",
     "text": [
      "0.6661058811951459\n"
     ]
    }
   ],
   "source": []
  },
  {
   "cell_type": "code",
   "execution_count": 750,
   "metadata": {
    "ExecuteTime": {
     "end_time": "2020-06-14T13:46:08.538693Z",
     "start_time": "2020-06-14T13:46:08.287129Z"
    }
   },
   "outputs": [
    {
     "name": "stdout",
     "output_type": "stream",
     "text": [
      "0 1\n",
      "1 2\n",
      "2 3\n"
     ]
    }
   ],
   "source": [
    "for i,j  in enumerate([1,2,3]):\n",
    "    print(i,j)"
   ]
  },
  {
   "cell_type": "code",
   "execution_count": 635,
   "metadata": {
    "ExecuteTime": {
     "end_time": "2020-06-12T08:12:01.626343Z",
     "start_time": "2020-06-12T08:12:01.608914Z"
    }
   },
   "outputs": [
    {
     "data": {
      "text/plain": [
       "tensor([[0., 0., 1., 0., 0., 0., 0., 0., 0., 0.],\n",
       "        [0., 0., 0., 0., 0., 1., 0., 0., 0., 0.]])"
      ]
     },
     "execution_count": 635,
     "metadata": {},
     "output_type": "execute_result"
    }
   ],
   "source": [
    "one_hot(torch.tensor([2,5]),10)"
   ]
  }
 ],
 "metadata": {
  "kernelspec": {
   "display_name": "Python 3",
   "language": "python",
   "name": "python3"
  },
  "language_info": {
   "codemirror_mode": {
    "name": "ipython",
    "version": 3
   },
   "file_extension": ".py",
   "mimetype": "text/x-python",
   "name": "python",
   "nbconvert_exporter": "python",
   "pygments_lexer": "ipython3",
   "version": "3.7.4"
  },
  "toc": {
   "base_numbering": 1,
   "nav_menu": {},
   "number_sections": true,
   "sideBar": true,
   "skip_h1_title": false,
   "title_cell": "Table of Contents",
   "title_sidebar": "Contents",
   "toc_cell": false,
   "toc_position": {},
   "toc_section_display": true,
   "toc_window_display": true
  }
 },
 "nbformat": 4,
 "nbformat_minor": 4
}
